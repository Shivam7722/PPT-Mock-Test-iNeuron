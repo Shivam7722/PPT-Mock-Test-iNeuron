{
 "cells": [
  {
   "cell_type": "code",
   "execution_count": 1,
   "metadata": {},
   "outputs": [],
   "source": [
    "def sqrt(n):\n",
    "    '''\n",
    "    function for returning square root of \"n\"\n",
    "    n = any number\n",
    "    '''\n",
    "    # checking number is greater than 2 or not if Truw then return \"n\"\n",
    "    if n < 2:\n",
    "        return n\n",
    "    \n",
    "    #implementing binary sewarch approach\n",
    "    start = 0\n",
    "    end = n/2 #for reducing the search time, because square root of any number is always equal to or less than the half of the number.\n",
    "\n",
    "    while start <= end:\n",
    "        mid = int((start+end)/2)\n",
    "        square = mid*mid\n",
    "        \n",
    "        if square == n:\n",
    "            return mid\n",
    "        elif square > n:\n",
    "            end = mid-1\n",
    "        else:\n",
    "            start = mid+1\n",
    "    return end"
   ]
  },
  {
   "cell_type": "code",
   "execution_count": 2,
   "metadata": {},
   "outputs": [
    {
     "name": "stdout",
     "output_type": "stream",
     "text": [
      "Rounded Square root of 4: 2\n",
      "Rounded Square root of 8: 2\n",
      "Rounded Square root of 12: 3\n",
      "Rounded Square root of 16: 4\n",
      "Rounded Square root of 19: 4\n",
      "Rounded Square root of 25: 5\n",
      "Rounded Square root of 28: 5\n",
      "Rounded Square root of 32: 5\n",
      "Rounded Square root of 36: 6\n",
      "Rounded Square root of 40: 6\n",
      "Rounded Square root of 49: 7\n",
      "Rounded Square root of 50: 7\n"
     ]
    }
   ],
   "source": [
    "for i in [4,8,12,16,19,25,28,32,36,40,49,50]:\n",
    "    print(f'Rounded Square root of {i}: {sqrt(i)}')"
   ]
  },
  {
   "cell_type": "code",
   "execution_count": null,
   "metadata": {},
   "outputs": [],
   "source": []
  }
 ],
 "metadata": {
  "kernelspec": {
   "display_name": "zucol-env",
   "language": "python",
   "name": "python3"
  },
  "language_info": {
   "codemirror_mode": {
    "name": "ipython",
    "version": 3
   },
   "file_extension": ".py",
   "mimetype": "text/x-python",
   "name": "python",
   "nbconvert_exporter": "python",
   "pygments_lexer": "ipython3",
   "version": "3.9.13"
  },
  "orig_nbformat": 4
 },
 "nbformat": 4,
 "nbformat_minor": 2
}
